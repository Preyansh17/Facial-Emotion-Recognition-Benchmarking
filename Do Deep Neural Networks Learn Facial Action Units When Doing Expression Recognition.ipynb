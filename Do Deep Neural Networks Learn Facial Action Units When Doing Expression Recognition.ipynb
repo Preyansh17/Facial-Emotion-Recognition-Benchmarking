{
  "cells": [
    {
      "cell_type": "code",
      "execution_count": null,
      "metadata": {
        "colab": {
          "base_uri": "https://localhost:8080/"
        },
        "id": "2ovH5B6imu9H",
        "outputId": "edeae2ef-4de1-4749-9873-3c32efa9aa9a"
      },
      "outputs": [
        {
          "output_type": "stream",
          "name": "stdout",
          "text": [
            "Angry\n",
            "Disgust\n",
            "Fear\n",
            "Happy\n",
            "Neutral\n",
            "Sad\n",
            "Surprise\n",
            "Angry\n",
            "Disgust\n",
            "Fear\n",
            "Happy\n",
            "Neutral\n",
            "Sad\n",
            "Surprise\n"
          ]
        }
      ],
      "source": [
        "import numpy as np\n",
        "import cv2\n",
        "import os\n",
        "from PIL import Image\n",
        "from numpy import asarray\n",
        "from skimage.transform import rescale, resize\n",
        "\n",
        "# emotion_to_index = {'angry':0, 'disgust':1, 'fear':2, 'happy':3, 'neutral':6, 'sad':4, 'surprise':5}\n",
        "emotion_to_index = {'Angry':0, 'Disgust':1, 'Fear':2, 'Happy':3, 'Neutral':6, 'Sad':4, 'Surprise':5}\n",
        "Resize_pixelsize = 96\n",
        "\n",
        "src = \"/content/drive/MyDrive/DATASET/online split\"\n",
        "Y_test = []\n",
        "X_test = []\n",
        "X_train = []\n",
        "Y_train = []\n",
        "X_val = []\n",
        "Y_val = []\n",
        "\n",
        "emotions  =  os.listdir(os.path.join(src,\"train\"))\n",
        "for emotion in emotions:\n",
        "  print(emotion)\n",
        "  dir = os.listdir(os.path.join(src,\"train\",emotion))\n",
        "  for image in dir:\n",
        "    img = cv2.imread(\"/content/drive/MyDrive/DATASET/online split/train\"+\"/\"+emotion+\"/\"+image)\n",
        "    gray_image = cv2.cvtColor(img, cv2.COLOR_BGR2GRAY)\n",
        "    data = asarray(gray_image)  \n",
        "    if(data.size!=65536):\n",
        "      continue\n",
        "    image_resized = resize(data, (Resize_pixelsize, Resize_pixelsize), anti_aliasing=True)\n",
        "    data = image_resized.reshape(Resize_pixelsize,Resize_pixelsize,1)\n",
        "    # data = data/255.0\n",
        "    X_train.append(data)\n",
        "    Y_train.append(emotion_to_index[emotion])\n",
        "\n",
        "X_train= np.array(X_train)\n",
        "Y_train = np.array(Y_train)\n",
        "\n",
        "\n",
        "\n",
        "# src = \"/content/drive/MyDrive/DATASET/Split\"\n",
        "emotions  =  os.listdir(os.path.join(src,\"test\"))\n",
        "for emotion in emotions:\n",
        "  print(emotion)\n",
        "  dir = os.listdir(os.path.join(src,\"test\",emotion))\n",
        "  for image in dir:\n",
        "    img = cv2.imread(\"/content/drive/MyDrive/DATASET/online split/test\"+\"/\"+emotion+\"/\"+image)\n",
        "    gray_image = cv2.cvtColor(img, cv2.COLOR_BGR2GRAY)\n",
        "    data = asarray(gray_image)\n",
        "\n",
        "    if(data.size!=65536):\n",
        "      continue\n",
        "    image_resized = resize(data, (Resize_pixelsize, Resize_pixelsize), anti_aliasing=True)\n",
        "    data = image_resized.reshape(Resize_pixelsize,Resize_pixelsize,1)\n",
        "    # data = data/255.0\n",
        "    X_test.append(data)\n",
        "    Y_test.append(emotion_to_index[emotion])\n",
        "\n",
        "X_test= np.array(X_test)\n",
        "Y_test = np.array(Y_test)\n"
      ]
    },
    {
      "cell_type": "code",
      "execution_count": null,
      "metadata": {
        "colab": {
          "base_uri": "https://localhost:8080/"
        },
        "id": "u3CeUrl8Cedi",
        "outputId": "5f4f36bf-1109-4263-ca6e-40ba12ac0c38"
      },
      "outputs": [
        {
          "output_type": "stream",
          "name": "stdout",
          "text": [
            "(1974, 96, 96, 1)\n"
          ]
        }
      ],
      "source": [
        "print(X_train.shape)"
      ]
    },
    {
      "cell_type": "code",
      "execution_count": null,
      "metadata": {
        "id": "MiuEd1eX6AYG"
      },
      "outputs": [],
      "source": [
        "from keras.utils.np_utils import to_categorical\n",
        "Y_train = to_categorical(Y_train, num_classes=7)\n",
        "Y_test = to_categorical(Y_test, num_classes=7)"
      ]
    },
    {
      "cell_type": "code",
      "execution_count": null,
      "metadata": {
        "id": "gfa3ejfeJ1Cj"
      },
      "outputs": [],
      "source": [
        "from keras.models import Sequential\n",
        "from keras.layers import Conv2D, MaxPool2D\n",
        "from keras.layers import Flatten, Dropout, Dense\n",
        "from tensorflow.keras import optimizers\n",
        "\n",
        "\n",
        "def get_model(img_x, img_y):\n",
        "    model = Sequential()\n",
        "    model.add(Conv2D(64, kernel_size=(5, 5), padding='same', activation='relu', input_shape=(img_x, img_y, 1)))\n",
        "    model.add(MaxPool2D(pool_size=(2, 2), strides=(1, 1)))\n",
        "\n",
        "    model.add(Conv2D(128, kernel_size=(5, 5), padding='same', activation='relu'))\n",
        "    model.add(MaxPool2D(pool_size=(2, 2), strides=(1, 1)))\n",
        "\n",
        "    model.add(Conv2D(256, kernel_size=(5, 5),  padding='same', activation='relu'))\n",
        "    model.add(MaxPool2D(pool_size=(2, 2), strides=(1, 1)))\n",
        "\n",
        "    model.add(Flatten())\n",
        "    model.add(Dense(300, activation='relu'))\n",
        "    model.add(Dropout(rate=0.5))\n",
        "    model.add(Dense(7, activation='softmax'))\n",
        "\n",
        "    adam = optimizers.SGD(learning_rate=0.01, momentum=0.9)\n",
        "    model.compile(optimizer=adam,\n",
        "                  loss='categorical_crossentropy',\n",
        "                  # loss='mse',\n",
        "                  metrics=['accuracy'])\n",
        "\n",
        "    return model"
      ]
    },
    {
      "cell_type": "code",
      "execution_count": null,
      "metadata": {
        "id": "zMQDQi_0Ji-j"
      },
      "outputs": [],
      "source": [
        "from keras.models import load_model\n",
        "\n",
        "def train():\n",
        "    print('loading data...')\n",
        "\n",
        "    img_x, img_y = 96, 96\n",
        "    # x_train = x_train.reshape(x_train.shape[0], img_x, img_y, 1)\n",
        "    # x_test = x_test.reshape(x_test.shape[0], img_x, img_y, 1)\n",
        "\n",
        "    print(X_train.shape)\n",
        "    print(Y_train.shape)\n",
        "\n",
        "    print('Loading model...')\n",
        "    model = get_model(96, 96)\n",
        "\n",
        "    print('Begin training...')\n",
        "    model.fit(X_train, Y_train, batch_size=64, epochs=50)\n",
        "\n",
        "    model.save('model.h5')\n",
        "\n",
        "    score = model.evaluate(X_test, Y_test)\n",
        "    print('acc', score[1])"
      ]
    },
    {
      "cell_type": "code",
      "execution_count": null,
      "metadata": {
        "colab": {
          "base_uri": "https://localhost:8080/"
        },
        "id": "1ctfECBcna6x",
        "outputId": "d233b3f9-50fc-4698-839b-932e37c1c955"
      },
      "outputs": [
        {
          "output_type": "stream",
          "name": "stdout",
          "text": [
            "loading data...\n",
            "(1974, 96, 96, 1)\n",
            "(1974, 7)\n",
            "Loading model...\n",
            "Begin training...\n",
            "Epoch 1/50\n",
            "31/31 [==============================] - 14s 331ms/step - loss: 1.9160 - accuracy: 0.2087\n",
            "Epoch 2/50\n",
            "31/31 [==============================] - 9s 282ms/step - loss: 1.8908 - accuracy: 0.2194\n",
            "Epoch 3/50\n",
            "31/31 [==============================] - 9s 282ms/step - loss: 1.7799 - accuracy: 0.2893\n",
            "Epoch 4/50\n",
            "31/31 [==============================] - 9s 282ms/step - loss: 1.6614 - accuracy: 0.3627\n",
            "Epoch 5/50\n",
            "31/31 [==============================] - 9s 281ms/step - loss: 1.5230 - accuracy: 0.4296\n",
            "Epoch 6/50\n",
            "31/31 [==============================] - 9s 281ms/step - loss: 1.4037 - accuracy: 0.4878\n",
            "Epoch 7/50\n",
            "31/31 [==============================] - 9s 282ms/step - loss: 1.2695 - accuracy: 0.5253\n",
            "Epoch 8/50\n",
            "31/31 [==============================] - 9s 281ms/step - loss: 1.2085 - accuracy: 0.5633\n",
            "Epoch 9/50\n",
            "31/31 [==============================] - 9s 282ms/step - loss: 1.0907 - accuracy: 0.6044\n",
            "Epoch 10/50\n",
            "31/31 [==============================] - 9s 281ms/step - loss: 1.0041 - accuracy: 0.6226\n",
            "Epoch 11/50\n",
            "31/31 [==============================] - 9s 281ms/step - loss: 0.8220 - accuracy: 0.7001\n",
            "Epoch 12/50\n",
            "31/31 [==============================] - 9s 281ms/step - loss: 0.6819 - accuracy: 0.7523\n",
            "Epoch 13/50\n",
            "31/31 [==============================] - 9s 281ms/step - loss: 0.6385 - accuracy: 0.7746\n",
            "Epoch 14/50\n",
            "31/31 [==============================] - 9s 281ms/step - loss: 0.5759 - accuracy: 0.8034\n",
            "Epoch 15/50\n",
            "31/31 [==============================] - 9s 281ms/step - loss: 0.4385 - accuracy: 0.8374\n",
            "Epoch 16/50\n",
            "31/31 [==============================] - 9s 281ms/step - loss: 0.3991 - accuracy: 0.8622\n",
            "Epoch 17/50\n",
            "31/31 [==============================] - 9s 281ms/step - loss: 0.3839 - accuracy: 0.8703\n",
            "Epoch 18/50\n",
            "31/31 [==============================] - 9s 281ms/step - loss: 0.2959 - accuracy: 0.8982\n",
            "Epoch 19/50\n",
            "31/31 [==============================] - 9s 281ms/step - loss: 0.2716 - accuracy: 0.9103\n",
            "Epoch 20/50\n",
            "31/31 [==============================] - 9s 282ms/step - loss: 0.2043 - accuracy: 0.9397\n",
            "Epoch 21/50\n",
            "31/31 [==============================] - 9s 282ms/step - loss: 0.2199 - accuracy: 0.9260\n",
            "Epoch 22/50\n",
            "31/31 [==============================] - 9s 282ms/step - loss: 0.1817 - accuracy: 0.9347\n",
            "Epoch 23/50\n",
            "31/31 [==============================] - 9s 283ms/step - loss: 0.1554 - accuracy: 0.9483\n",
            "Epoch 24/50\n",
            "31/31 [==============================] - 9s 283ms/step - loss: 0.1631 - accuracy: 0.9519\n",
            "Epoch 25/50\n",
            "31/31 [==============================] - 9s 282ms/step - loss: 0.1480 - accuracy: 0.9493\n",
            "Epoch 26/50\n",
            "31/31 [==============================] - 9s 283ms/step - loss: 0.1404 - accuracy: 0.9493\n",
            "Epoch 27/50\n",
            "31/31 [==============================] - 9s 283ms/step - loss: 0.1279 - accuracy: 0.9585\n",
            "Epoch 28/50\n",
            "31/31 [==============================] - 9s 283ms/step - loss: 0.1102 - accuracy: 0.9605\n",
            "Epoch 29/50\n",
            "31/31 [==============================] - 9s 283ms/step - loss: 0.1073 - accuracy: 0.9661\n",
            "Epoch 30/50\n",
            "31/31 [==============================] - 9s 283ms/step - loss: 0.0780 - accuracy: 0.9777\n",
            "Epoch 31/50\n",
            "31/31 [==============================] - 9s 283ms/step - loss: 0.0774 - accuracy: 0.9737\n",
            "Epoch 32/50\n",
            "31/31 [==============================] - 9s 283ms/step - loss: 0.0832 - accuracy: 0.9818\n",
            "Epoch 33/50\n",
            "31/31 [==============================] - 9s 283ms/step - loss: 0.0906 - accuracy: 0.9696\n",
            "Epoch 34/50\n",
            "31/31 [==============================] - 9s 283ms/step - loss: 0.0691 - accuracy: 0.9782\n",
            "Epoch 35/50\n",
            "31/31 [==============================] - 9s 283ms/step - loss: 0.0628 - accuracy: 0.9762\n",
            "Epoch 36/50\n",
            "31/31 [==============================] - 9s 283ms/step - loss: 0.0869 - accuracy: 0.9706\n",
            "Epoch 37/50\n",
            "31/31 [==============================] - 9s 283ms/step - loss: 0.0842 - accuracy: 0.9747\n",
            "Epoch 38/50\n",
            "31/31 [==============================] - 9s 283ms/step - loss: 0.0673 - accuracy: 0.9807\n",
            "Epoch 39/50\n",
            "31/31 [==============================] - 9s 283ms/step - loss: 0.0602 - accuracy: 0.9813\n",
            "Epoch 40/50\n",
            "31/31 [==============================] - 9s 283ms/step - loss: 0.0427 - accuracy: 0.9878\n",
            "Epoch 41/50\n",
            "31/31 [==============================] - 9s 283ms/step - loss: 0.0619 - accuracy: 0.9772\n",
            "Epoch 42/50\n",
            "31/31 [==============================] - 9s 283ms/step - loss: 0.0472 - accuracy: 0.9843\n",
            "Epoch 43/50\n",
            "31/31 [==============================] - 9s 283ms/step - loss: 0.0504 - accuracy: 0.9838\n",
            "Epoch 44/50\n",
            "31/31 [==============================] - 9s 283ms/step - loss: 0.0567 - accuracy: 0.9792\n",
            "Epoch 45/50\n",
            "31/31 [==============================] - 9s 283ms/step - loss: 0.0382 - accuracy: 0.9863\n",
            "Epoch 46/50\n",
            "31/31 [==============================] - 9s 283ms/step - loss: 0.0339 - accuracy: 0.9873\n",
            "Epoch 47/50\n",
            "31/31 [==============================] - 9s 282ms/step - loss: 0.0410 - accuracy: 0.9848\n",
            "Epoch 48/50\n",
            "31/31 [==============================] - 9s 283ms/step - loss: 0.0481 - accuracy: 0.9858\n",
            "Epoch 49/50\n",
            "31/31 [==============================] - 9s 282ms/step - loss: 0.0372 - accuracy: 0.9858\n",
            "Epoch 50/50\n",
            "31/31 [==============================] - 9s 281ms/step - loss: 0.0407 - accuracy: 0.9853\n",
            "8/8 [==============================] - 2s 67ms/step - loss: 3.0032 - accuracy: 0.5397\n",
            "acc 0.5397489666938782\n"
          ]
        }
      ],
      "source": [
        "train()"
      ]
    }
  ],
  "metadata": {
    "accelerator": "GPU",
    "colab": {
      "machine_shape": "hm",
      "provenance": []
    },
    "gpuClass": "standard",
    "kernelspec": {
      "display_name": "Python 3",
      "name": "python3"
    },
    "language_info": {
      "name": "python"
    }
  },
  "nbformat": 4,
  "nbformat_minor": 0
}